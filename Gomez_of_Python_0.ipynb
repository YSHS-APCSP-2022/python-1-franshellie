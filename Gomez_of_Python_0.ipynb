{
  "nbformat": 4,
  "nbformat_minor": 0,
  "metadata": {
    "colab": {
      "provenance": [],
      "include_colab_link": true
    },
    "kernelspec": {
      "name": "python3",
      "display_name": "Python 3"
    }
  },
  "cells": [
    {
      "cell_type": "markdown",
      "metadata": {
        "id": "view-in-github",
        "colab_type": "text"
      },
      "source": [
        "<a href=\"https://colab.research.google.com/github/YSHS-APCSP-2022/python-1-franshellie/blob/main/Gomez_of_Python_0.ipynb\" target=\"_parent\"><img src=\"https://colab.research.google.com/assets/colab-badge.svg\" alt=\"Open In Colab\"/></a>"
      ]
    },
    {
      "cell_type": "markdown",
      "metadata": {
        "id": "tcGfUOOuvqdx"
      },
      "source": [
        "### Task 1 - Basic Math"
      ]
    },
    {
      "cell_type": "markdown",
      "metadata": {
        "id": "VKryyOuzvvZe"
      },
      "source": [
        "Python is a programming language that allows the devleopment of many desktop, web, scientific, and mathematical applications (apps). We will start exploring Python by doing some *basic* math. "
      ]
    },
    {
      "cell_type": "markdown",
      "metadata": {
        "id": "DZcbIj2HwMip"
      },
      "source": [
        "1. Type in 3 + 5 into a new iPython code cell. Then click the \"play\" icon button on the left of the cell (or control+Enter) to run the code. What is the output? "
      ]
    },
    {
      "cell_type": "code",
      "metadata": {
        "id": "lPwBlljTQPUv",
        "colab": {
          "base_uri": "https://localhost:8080/"
        },
        "outputId": "aadadd5c-79a4-42a5-f263-57de63aab15a"
      },
      "source": [
        "{3+5}"
      ],
      "execution_count": null,
      "outputs": [
        {
          "output_type": "execute_result",
          "data": {
            "text/plain": [
              "{8}"
            ]
          },
          "metadata": {},
          "execution_count": 2
        }
      ]
    },
    {
      "cell_type": "markdown",
      "metadata": {
        "id": "qVr5Nry_w8gv"
      },
      "source": [
        "2. Type in \n",
        "\n",
        "```\n",
        "2**3\n",
        "```\n",
        "  into a new iPython code cell. Then click the \"play\" icon button on the left \n",
        "  of the cell (or control+Enter) to run the code. What is the output? What \n",
        "  mathematical operation does the double asterisk signify?"
      ]
    },
    {
      "cell_type": "code",
      "metadata": {
        "id": "-42ip9usQQYL",
        "colab": {
          "base_uri": "https://localhost:8080/"
        },
        "outputId": "1086b17c-59a6-4495-d39f-72359bc30130"
      },
      "source": [
        "{2**3}"
      ],
      "execution_count": null,
      "outputs": [
        {
          "output_type": "execute_result",
          "data": {
            "text/plain": [
              "{8}"
            ]
          },
          "metadata": {},
          "execution_count": 3
        }
      ]
    },
    {
      "cell_type": "markdown",
      "metadata": {
        "id": "jRrhQuZaxCJ4"
      },
      "source": [
        "3. Type in \n",
        "```\n",
        "5*4\n",
        "```\n",
        "into a new iPython code cell. Then click the \"play\" icon button on the left of the cell (or control+Enter) to run the code. What is the output? What mathematical operation does the single asterisk represent? "
      ]
    },
    {
      "cell_type": "code",
      "metadata": {
        "id": "HVIHjJsDQStQ",
        "colab": {
          "base_uri": "https://localhost:8080/"
        },
        "outputId": "1e35a00e-2d33-4301-b3cb-08db4d3e2e36"
      },
      "source": [
        "{5*4}"
      ],
      "execution_count": null,
      "outputs": [
        {
          "output_type": "execute_result",
          "data": {
            "text/plain": [
              "{20}"
            ]
          },
          "metadata": {},
          "execution_count": 4
        }
      ]
    },
    {
      "cell_type": "markdown",
      "source": [],
      "metadata": {
        "id": "eTSGoW2S95VS"
      }
    },
    {
      "cell_type": "markdown",
      "metadata": {
        "id": "7C-ejuYzxLJj"
      },
      "source": [
        "4. Type in print(10/3) into a new iPython code cell. Then type in print(10/3.0) into another iPython code cell. What is the difference in the outputs? Why might this difference be important?"
      ]
    },
    {
      "cell_type": "markdown",
      "source": [
        "was supposed to round\n"
      ],
      "metadata": {
        "id": "ZVpp3c9i9mwO"
      }
    },
    {
      "cell_type": "code",
      "metadata": {
        "id": "tGI6n4vNQWqs",
        "colab": {
          "base_uri": "https://localhost:8080/"
        },
        "outputId": "7b3e4e90-b44f-43e6-f874-dc969124febc"
      },
      "source": [
        "10/3"
      ],
      "execution_count": null,
      "outputs": [
        {
          "output_type": "execute_result",
          "data": {
            "text/plain": [
              "3.3333333333333335"
            ]
          },
          "metadata": {},
          "execution_count": 7
        }
      ]
    },
    {
      "cell_type": "code",
      "metadata": {
        "id": "l4ZgvscIQXA5",
        "colab": {
          "base_uri": "https://localhost:8080/"
        },
        "outputId": "f87de56c-9349-4746-d8ea-865a0336ee0b"
      },
      "source": [
        "{10/3.0}"
      ],
      "execution_count": null,
      "outputs": [
        {
          "output_type": "execute_result",
          "data": {
            "text/plain": [
              "{3.3333333333333335}"
            ]
          },
          "metadata": {},
          "execution_count": 6
        }
      ]
    },
    {
      "cell_type": "markdown",
      "metadata": {
        "id": "_b-pxjL3QXpf"
      },
      "source": []
    },
    {
      "cell_type": "markdown",
      "metadata": {
        "id": "s1foBABIxaT3"
      },
      "source": [
        "### Task 2 - Conditional Statements"
      ]
    },
    {
      "cell_type": "markdown",
      "metadata": {
        "id": "9AWiM7bIxg3I"
      },
      "source": [
        "Conditional statements are if...then statements that allow evaluation (true/false) of a statement. These conditional statements can be very powerful, as they allow you to dictate an or action in response to the conditions present.\n",
        "\n",
        "For instance :\n",
        "\n",
        "\n",
        "\n",
        "```\n",
        "n = 3\n",
        "if n > 0:\n",
        "print \"wow\"\n",
        "\n",
        "```\n",
        "\n",
        "This conditional statement print \"wow\" to the console when the condition of n*2 > 1 is met. Play around with the code below to change the readout\n"
      ]
    },
    {
      "cell_type": "code",
      "metadata": {
        "id": "-PVw5KUuySmw",
        "colab": {
          "base_uri": "https://localhost:8080/"
        },
        "outputId": "000cc9e7-d001-42b1-b8e7-a57feae3ac55"
      },
      "source": [
        "n = 2\n",
        "\n",
        "if n*2 > 1:\n",
        "  print(\"wow\") \n",
        "else :\n",
        "  print(\"sorry babe\");"
      ],
      "execution_count": null,
      "outputs": [
        {
          "output_type": "stream",
          "name": "stdout",
          "text": [
            "wow\n"
          ]
        }
      ]
    },
    {
      "cell_type": "markdown",
      "metadata": {
        "id": "pW8_oQiyywHY"
      },
      "source": [
        "Let's say that you want to have something print out even if the number is less than zero. We can add an else statement to the condition to facilitate this : "
      ]
    },
    {
      "cell_type": "code",
      "metadata": {
        "id": "RxTokniZzFw-",
        "colab": {
          "base_uri": "https://localhost:8080/"
        },
        "outputId": "10be4376-e6c3-4132-cbfc-1263ff896961"
      },
      "source": [
        "n = -1\n",
        "\n",
        "if n*2 > 1:\n",
        "  print(\"wow\")\n",
        "else:\n",
        "\n",
        "  print(\"umm...no\")"
      ],
      "execution_count": null,
      "outputs": [
        {
          "output_type": "stream",
          "name": "stdout",
          "text": [
            "umm...no\n"
          ]
        }
      ]
    },
    {
      "cell_type": "markdown",
      "source": [
        "task 1"
      ],
      "metadata": {
        "id": "eCJyGDZF0uRz"
      }
    },
    {
      "cell_type": "code",
      "source": [
        "\n",
        "age1=input(\"what is your age?\") \n",
        "age =int(age1) \n",
        "\n",
        "if age > 18: \n",
        "   print(\"yes, you CAN VOTE\") \n",
        "else:  \n",
        "   print(\"no ur not sorry\");"
      ],
      "metadata": {
        "colab": {
          "base_uri": "https://localhost:8080/"
        },
        "id": "Jr7DvUBv-5ou",
        "outputId": "762a9a15-1476-499e-d9f7-219cbb968c12"
      },
      "execution_count": null,
      "outputs": [
        {
          "output_type": "stream",
          "name": "stdout",
          "text": [
            "what is your age?19\n",
            "yes, you CAN VOTE\n"
          ]
        }
      ]
    },
    {
      "cell_type": "markdown",
      "source": [
        "task 2"
      ],
      "metadata": {
        "id": "_V4wjTye0xfA"
      }
    },
    {
      "cell_type": "code",
      "source": [
        "x = input(\"enter number for x\")  \n",
        "y = input(\"enter a number for y\")\n",
        "x1 = int(x) \n",
        "y1=int(y) \n",
        "\n",
        "if x1 and y1 > 0:\n",
        "      print(x1,\",\",y1) \n",
        "else: \n",
        "   print(\"invaild\")\n"
      ],
      "metadata": {
        "colab": {
          "base_uri": "https://localhost:8080/"
        },
        "id": "FREltNgCzfbY",
        "outputId": "2bc39a40-b30c-499f-c989-1bd045dea536"
      },
      "execution_count": null,
      "outputs": [
        {
          "output_type": "stream",
          "name": "stdout",
          "text": [
            "enter number for x 5 \n",
            "enter a number for y 4\n",
            "5 , 4\n"
          ]
        }
      ]
    },
    {
      "cell_type": "markdown",
      "source": [
        "task 3"
      ],
      "metadata": {
        "id": "alK6I7z90y9z"
      }
    },
    {
      "cell_type": "code",
      "source": [
        "x = input(\"enter my name\") \n",
        "set\n",
        "if x is shellie:\n",
        "\n",
        "  print(x,\"That's me!\")\n",
        "else: \n",
        "   print(\"Who's that?\")     \n"
      ],
      "metadata": {
        "colab": {
          "base_uri": "https://localhost:8080/",
          "height": 258
        },
        "id": "QPQfLfvu2fr9",
        "outputId": "c23c1f9b-4935-4223-e4d0-734ca587e790"
      },
      "execution_count": null,
      "outputs": [
        {
          "name": "stdout",
          "output_type": "stream",
          "text": [
            "enter my name shellie\n"
          ]
        },
        {
          "output_type": "error",
          "ename": "NameError",
          "evalue": "ignored",
          "traceback": [
            "\u001b[0;31m---------------------------------------------------------------------------\u001b[0m",
            "\u001b[0;31mNameError\u001b[0m                                 Traceback (most recent call last)",
            "\u001b[0;32m<ipython-input-16-42806c02775b>\u001b[0m in \u001b[0;36m<module>\u001b[0;34m\u001b[0m\n\u001b[1;32m      1\u001b[0m \u001b[0mx\u001b[0m \u001b[0;34m=\u001b[0m \u001b[0minput\u001b[0m\u001b[0;34m(\u001b[0m\u001b[0;34m\"enter my name\"\u001b[0m\u001b[0;34m)\u001b[0m\u001b[0;34m\u001b[0m\u001b[0;34m\u001b[0m\u001b[0m\n\u001b[1;32m      2\u001b[0m \u001b[0;34m\u001b[0m\u001b[0m\n\u001b[0;32m----> 3\u001b[0;31m \u001b[0;32mif\u001b[0m \u001b[0mx\u001b[0m \u001b[0;32mis\u001b[0m \u001b[0;34m(\u001b[0m\u001b[0mshellie\u001b[0m\u001b[0;34m)\u001b[0m\u001b[0;34m:\u001b[0m\u001b[0;34m\u001b[0m\u001b[0;34m\u001b[0m\u001b[0m\n\u001b[0m\u001b[1;32m      4\u001b[0m \u001b[0;34m\u001b[0m\u001b[0m\n\u001b[1;32m      5\u001b[0m   \u001b[0mprint\u001b[0m\u001b[0;34m(\u001b[0m\u001b[0mx\u001b[0m\u001b[0;34m,\u001b[0m\u001b[0;34m\"That's me!\"\u001b[0m\u001b[0;34m)\u001b[0m\u001b[0;34m\u001b[0m\u001b[0;34m\u001b[0m\u001b[0m\n",
            "\u001b[0;31mNameError\u001b[0m: name 'shellie' is not defined"
          ]
        }
      ]
    },
    {
      "cell_type": "markdown",
      "metadata": {
        "id": "vDGCuD09yyJ4"
      },
      "source": [
        "### Challenges\n",
        "1. Create a conditional statement that evaluates whether someone is old enough to vote. Make sure you have some readouts along with an if...else conditional statement.\n",
        "\n",
        "2. Write a conditional statement evaluating whether two variables (x and y) are both greater than zero. Have a printout statement for a true and a false evaluation.\n",
        "\n",
        "3. Create a conditional statement of your choice. Must include if...else statement, print statement, and a mathematical operation. "
      ]
    }
  ]
}