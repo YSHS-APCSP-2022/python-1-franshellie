{
  "nbformat": 4,
  "nbformat_minor": 0,
  "metadata": {
    "colab": {
      "provenance": [],
      "include_colab_link": true
    },
    "kernelspec": {
      "name": "python3",
      "display_name": "Python 3"
    }
  },
  "cells": [
    {
      "cell_type": "markdown",
      "metadata": {
        "id": "view-in-github",
        "colab_type": "text"
      },
      "source": [
        "<a href=\"https://colab.research.google.com/github/YSHS-APCSP-2022/python-1-franshellie/blob/main/Python_5_Nested_If_Else_Statements.ipynb\" target=\"_parent\"><img src=\"https://colab.research.google.com/assets/colab-badge.svg\" alt=\"Open In Colab\"/></a>"
      ]
    },
    {
      "cell_type": "markdown",
      "metadata": {
        "id": "FLsM8VaNx1gj"
      },
      "source": [
        "#Nested If/Else Statements\n",
        "The function food_id(), seen below, takes 1 argument (food) and then ouputs a classification for that food. \n",
        "\n",
        "Run the cell below and then answer the questions that follow."
      ]
    },
    {
      "cell_type": "code",
      "metadata": {
        "id": "1aytZCitxw4u",
        "colab": {
          "base_uri": "https://localhost:8080/",
          "height": 34
        },
        "outputId": "8b7ed880-4da0-40e4-ea03-a25baa211213"
      },
      "source": [
        "def food_id(food):\n",
        "    # The data\n",
        "    fruits = ['apple', 'banana', 'orange']\n",
        "    citrus = ['orange']\n",
        "    starchy = ['banana', 'potato']\n",
        "\n",
        "    # Check the category and report\n",
        "    if food in fruits:\n",
        "        if food in citrus:\n",
        "            return 'Citrus, Fruit'\n",
        "        else:\n",
        "            return 'NOT Citrus, Fruit'\n",
        "    else:\n",
        "        if food in starchy:\n",
        "            return 'Starchy, NOT Fruit'\n",
        "        else:\n",
        "            return 'NOT Starchy, NOT Fruit'\n",
        "\n",
        "food_id('apple')"
      ],
      "execution_count": null,
      "outputs": [
        {
          "output_type": "execute_result",
          "data": {
            "text/plain": [
              "'NOT Citrus, Fruit'"
            ]
          },
          "metadata": {
            "tags": []
          },
          "execution_count": 2
        }
      ]
    },
    {
      "cell_type": "markdown",
      "metadata": {
        "id": "BmvIIiJFzOg1"
      },
      "source": [
        "# Question 1\n",
        "\n",
        "1. Explain why when the function food_id() is called with the argument apple the output is 'Not Citrus, Fruit'\n",
        "\n"
      ]
    },
    {
      "cell_type": "markdown",
      "metadata": {
        "id": "FpoZVdfg2Pm3"
      },
      "source": []
    },
    {
      "cell_type": "markdown",
      "metadata": {
        "id": "AqA56jBVziGR"
      },
      "source": [
        "# Question 2\n",
        "\n",
        "2. What input will cause 'Citrus, Fruit' to be executed?\n",
        "\n"
      ]
    },
    {
      "cell_type": "markdown",
      "metadata": {
        "id": "VvayJ8bn1L6Y"
      },
      "source": []
    },
    {
      "cell_type": "code",
      "source": [
        "#Check your answer by calling the function with your suggested input."
      ],
      "metadata": {
        "id": "ACWv33wHQxVM"
      },
      "execution_count": null,
      "outputs": []
    },
    {
      "cell_type": "markdown",
      "metadata": {
        "id": "-j_a7cju1Dcn"
      },
      "source": [
        "# Question 3\n",
        "\n",
        "3. What input will cause ' Starchy, Not Fruit' to be executed?\n",
        "\n"
      ]
    },
    {
      "cell_type": "markdown",
      "metadata": {
        "id": "aWxVXfIP1N6Y"
      },
      "source": []
    },
    {
      "cell_type": "code",
      "source": [
        "#Check your answer by calling the function with your suggested input."
      ],
      "metadata": {
        "id": "8tdRTwv7Q3Fc"
      },
      "execution_count": null,
      "outputs": []
    },
    {
      "cell_type": "markdown",
      "metadata": {
        "id": "x22Sx1dz1jc8"
      },
      "source": [
        "# Question 4\n",
        "\n",
        "4. What will cause ' NOT Starchy, NOT Fruit' to run?\n",
        "\n",
        "\n"
      ]
    },
    {
      "cell_type": "markdown",
      "metadata": {
        "id": "HebV7Uma1wat"
      },
      "source": []
    },
    {
      "cell_type": "code",
      "source": [
        "#Check your answer by calling the function with your suggested input."
      ],
      "metadata": {
        "id": "adtV0ZGBQ4KZ"
      },
      "execution_count": null,
      "outputs": []
    },
    {
      "cell_type": "markdown",
      "metadata": {
        "id": "zwXhsNZB3Vg2"
      },
      "source": [
        "#Create Your Own Nested If/Else Statement\n",
        "\n",
        "1. Create a function called TextComplete() that takes 0 arguments that mimics a basic text completion email program.\n",
        "2. The function then asks the user two separate questions. \n",
        "    - What is the tone of the email? angry or happy?\n",
        "    - What day of the week is it?\n",
        "3. Use the below if/else nested structure to complete the function. Note that the below code is pseudocode and you will need to use proper syntax \n",
        "4. If the tone is happy:\n",
        "      - If the day of the week is friday:\n",
        "           - print Have a good weekend!\n",
        "      - else:\n",
        "           - print have a good day\n",
        "\n",
        "5. If the tone is angry:\n",
        "  - If the day of the week is friday:\n",
        "    - print Have a bad weekend!\n",
        "  - else:\n",
        "    - print Have a bad day!\n"
      ]
    },
    {
      "cell_type": "code",
      "metadata": {
        "id": "rOJrA61bHFVl"
      },
      "source": [
        "#Put your TextComplete() function here"
      ],
      "execution_count": null,
      "outputs": []
    },
    {
      "cell_type": "markdown",
      "source": [
        "#Hack it! \n",
        "Create a function that\n",
        "1. Takes 2 parameter values as inputs\n",
        "2. Uses nested if/else statements to achieve various outcomes.\n"
      ],
      "metadata": {
        "id": "GCk1jebdP_2E"
      }
    },
    {
      "cell_type": "code",
      "source": [],
      "metadata": {
        "id": "v0-5clveQhvE"
      },
      "execution_count": null,
      "outputs": []
    }
  ]
}